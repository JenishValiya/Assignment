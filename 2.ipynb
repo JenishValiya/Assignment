{
 "cells": [
  {
   "cell_type": "code",
   "execution_count": null,
   "id": "73da14ab-0350-4e78-af32-3b934b9aa171",
   "metadata": {},
   "outputs": [],
   "source": []
  },
  {
   "cell_type": "code",
   "execution_count": null,
   "id": "5346e70f-0aef-4361-af75-0a022a41f805",
   "metadata": {},
   "outputs": [],
   "source": [
    "QUE. 1"
   ]
  },
  {
   "cell_type": "code",
   "execution_count": null,
   "id": "30e812e9-5eda-407d-a569-33621d613741",
   "metadata": {},
   "outputs": [],
   "source": [
    "write a program to accept precentage from the user and display the grade according to the following criteria: "
   ]
  },
  {
   "cell_type": "code",
   "execution_count": 12,
   "id": "fa32c435-7898-413f-bcb6-a2c70166a7c4",
   "metadata": {},
   "outputs": [
    {
     "name": "stdin",
     "output_type": "stream",
     "text": [
      "Enter your Marks 55\n"
     ]
    },
    {
     "name": "stdout",
     "output_type": "stream",
     "text": [
      " you pass with 'D' grade.\n"
     ]
    }
   ],
   "source": [
    "M = int(input(\"Enter your Marks\"))\n",
    "if M > 90 :\n",
    "    print(\"Congratulations you pass with 'A' grade.\")\n",
    "elif M <= 90 and M > 80 :\n",
    "    print(\"Congratulations you pass with 'B' grade.\")\n",
    "elif M <= 80 and M >= 60 :\n",
    "    print(\"Congratulations you pass with 'C' grade.\")\n",
    "else :\n",
    "    print(\" you pass with 'D' grade.\")"
   ]
  },
  {
   "cell_type": "code",
   "execution_count": null,
   "id": "89b96602-ea95-4de8-b366-c3c18a56321e",
   "metadata": {},
   "outputs": [],
   "source": []
  },
  {
   "cell_type": "code",
   "execution_count": null,
   "id": "d6afa375-70d5-4adc-9bec-8ce94cfddc92",
   "metadata": {},
   "outputs": [],
   "source": [
    "QUE. 2"
   ]
  },
  {
   "cell_type": "code",
   "execution_count": null,
   "id": "88baab09-7ae3-4e09-b430-729e79c44cee",
   "metadata": {},
   "outputs": [],
   "source": [
    "write a program to accept the cost price of a bike and display the road tax to be according to the following criteria : "
   ]
  },
  {
   "cell_type": "code",
   "execution_count": 24,
   "id": "927fe951-0dd3-4cbb-86e1-9913d6008077",
   "metadata": {},
   "outputs": [
    {
     "name": "stdin",
     "output_type": "stream",
     "text": [
      "Enter your COST OF BIKE 50000\n"
     ]
    },
    {
     "name": "stdout",
     "output_type": "stream",
     "text": [
      "You paid 5% of TEX.\n"
     ]
    }
   ],
   "source": [
    "cost = int(input(\"Enter your COST OF BIKE\"))\n",
    "if cost > 100000 :\n",
    "    print(\"You paid 15% of TEX.\")\n",
    "elif cost <= 100000 and cost > 50000 :\n",
    "    print(\"You paid 10% of TEX.\")\n",
    "else :\n",
    "    print(\"You paid 5% of TEX.\")"
   ]
  },
  {
   "cell_type": "code",
   "execution_count": null,
   "id": "78ae2e36-0cc0-4c5e-a9f8-4995d5db16b4",
   "metadata": {},
   "outputs": [],
   "source": []
  },
  {
   "cell_type": "code",
   "execution_count": null,
   "id": "6072a475-5b2a-40a4-9003-692a6cc1bc4f",
   "metadata": {},
   "outputs": [],
   "source": [
    "QUE. 3"
   ]
  },
  {
   "cell_type": "code",
   "execution_count": null,
   "id": "b28a2a56-a78a-4b19-96c8-8d8838ed623c",
   "metadata": {},
   "outputs": [],
   "source": [
    "accept any city from the user and displsy monuments of that city :"
   ]
  },
  {
   "cell_type": "code",
   "execution_count": 23,
   "id": "3a332380-62a7-458b-80db-087672f9ad1b",
   "metadata": {},
   "outputs": [
    {
     "name": "stdout",
     "output_type": "stream",
     "text": [
      "choose the city between \"Delhi\" , \"Agra\" , \"Jaipur\" .\n"
     ]
    },
    {
     "name": "stdin",
     "output_type": "stream",
     "text": [
      "Enter your choice  Jaipur\n"
     ]
    },
    {
     "name": "stdout",
     "output_type": "stream",
     "text": [
      "The monument of that city is 'JAL MAHAL'\n"
     ]
    }
   ],
   "source": [
    "print('choose the city between \"Delhi\" , \"Agra\" , \"Jaipur\" .')\n",
    "\n",
    "\n",
    "city = input(\"Enter your choice \")\n",
    "if city == \"Delhi\" :\n",
    "    print(\"The monument of that city is 'RED FORT'\")\n",
    "elif city == \"Agra\" :\n",
    "    print(\"The monument of that city is 'TAJ MAHAL'\")\n",
    "else :\n",
    "    print(\"The monument of that city is 'JAL MAHAL'\")"
   ]
  },
  {
   "cell_type": "code",
   "execution_count": null,
   "id": "f4266bdb-c84c-4961-9091-c3f6b6f578d7",
   "metadata": {},
   "outputs": [],
   "source": []
  },
  {
   "cell_type": "code",
   "execution_count": null,
   "id": "9c4b2fae-6241-4ef6-bf69-1eca0af9b21c",
   "metadata": {},
   "outputs": [],
   "source": [
    "QUE. 4"
   ]
  },
  {
   "cell_type": "code",
   "execution_count": null,
   "id": "04722f80-a4b5-45f9-8ad4-083bde315a14",
   "metadata": {},
   "outputs": [],
   "source": [
    "write a python program to check how many times a given number can be divide by 3 before it is less than or equal to 10"
   ]
  },
  {
   "cell_type": "code",
   "execution_count": 26,
   "id": "d885ec6f-ef8f-467e-9134-6f037e69de0d",
   "metadata": {},
   "outputs": [
    {
     "name": "stdin",
     "output_type": "stream",
     "text": [
      "Enter a number:  958628\n"
     ]
    },
    {
     "name": "stdout",
     "output_type": "stream",
     "text": [
      "The number can be divided by 3 11 times before it is less than or equal to 10.\n"
     ]
    }
   ],
   "source": [
    "def divide_by_3(n):\n",
    "    count = 0\n",
    "    while n >= 10:\n",
    "        n = n / 3\n",
    "        count += 1\n",
    "    return count\n",
    "\n",
    "number = int(input(\"Enter a number: \"))\n",
    "result = divide_by_3(number)\n",
    "print(f\"The number can be divided by 3 {result} times before it is less than or equal to 10.\")"
   ]
  },
  {
   "cell_type": "code",
   "execution_count": null,
   "id": "fa915b22-ea37-434d-952a-392b6273d0c1",
   "metadata": {},
   "outputs": [],
   "source": []
  },
  {
   "cell_type": "code",
   "execution_count": null,
   "id": "6ada5eb8-f634-48e8-9a59-bf5ad961a778",
   "metadata": {},
   "outputs": [],
   "source": [
    "QUE. 5"
   ]
  },
  {
   "cell_type": "code",
   "execution_count": null,
   "id": "4483fbe5-3a52-4bdf-8c8e-c2223d0597f5",
   "metadata": {},
   "outputs": [],
   "source": [
    "Why and When to use while loop in python give a description with example"
   ]
  },
  {
   "cell_type": "code",
   "execution_count": null,
   "id": "0b787a05-bdcf-4b2f-b58c-886fec79ad63",
   "metadata": {},
   "outputs": [],
   "source": [
    "The while loop in Python is used to repeatedly execute a block of code as long as a certain condition is met. The code block within the loop will keep executing until the condition becomes false.\n",
    "\n",
    "Here's an example to illustrate the use of a while loop in Python:"
   ]
  },
  {
   "cell_type": "code",
   "execution_count": 28,
   "id": "0e4dee34-16ff-48d7-957c-0b853b052ea1",
   "metadata": {},
   "outputs": [
    {
     "name": "stdout",
     "output_type": "stream",
     "text": [
      "1\n",
      "2\n",
      "3\n",
      "4\n",
      "5\n",
      "6\n",
      "7\n",
      "8\n",
      "9\n",
      "10\n"
     ]
    }
   ],
   "source": [
    "num = 1\n",
    "while num <= 10:\n",
    "    print(num)\n",
    "    num = num + 1"
   ]
  },
  {
   "cell_type": "code",
   "execution_count": null,
   "id": "6fc07cd0-f7b5-4e4c-bcd3-75a5212df9ad",
   "metadata": {},
   "outputs": [],
   "source": [
    "The while loop is often used when the number of iterations is not known beforehand, and the loop is used to repeat a task until a certain condition is met. For example, when reading data from a file, the loop continues until the end of the file is reached."
   ]
  },
  {
   "cell_type": "code",
   "execution_count": null,
   "id": "fa19d141-c497-4012-a41e-eb14e3bb842d",
   "metadata": {},
   "outputs": [],
   "source": []
  },
  {
   "cell_type": "code",
   "execution_count": null,
   "id": "48e4cbe3-cf47-49b8-8b63-397a7ed4452d",
   "metadata": {},
   "outputs": [],
   "source": [
    "QUE. 6"
   ]
  },
  {
   "cell_type": "code",
   "execution_count": null,
   "id": "1f74d9e0-64f6-4d4a-85cd-d6d25e73a178",
   "metadata": {},
   "outputs": [],
   "source": [
    "use nested while loop to print 3 different pattern."
   ]
  },
  {
   "cell_type": "code",
   "execution_count": null,
   "id": "4432efeb-7037-487f-99fe-16c2d3ad3238",
   "metadata": {},
   "outputs": [],
   "source": [
    "1.Right triangle pattern:"
   ]
  },
  {
   "cell_type": "code",
   "execution_count": 29,
   "id": "ce7a2480-58c4-49bc-984b-2f7988553d65",
   "metadata": {},
   "outputs": [
    {
     "name": "stdout",
     "output_type": "stream",
     "text": [
      "*\n",
      "**\n",
      "***\n",
      "****\n",
      "*****\n"
     ]
    }
   ],
   "source": [
    "rows = 5\n",
    "i = 1\n",
    "while i <= rows:\n",
    "    j = 1\n",
    "    while j <= i:\n",
    "        print(\"*\", end=\"\")\n",
    "        j = j + 1\n",
    "    print()\n",
    "    i = i + 1"
   ]
  },
  {
   "cell_type": "code",
   "execution_count": null,
   "id": "88481a39-3e70-49ca-ac29-d76ec941d7f3",
   "metadata": {},
   "outputs": [],
   "source": [
    "2. Reverse right triangle pattern:"
   ]
  },
  {
   "cell_type": "code",
   "execution_count": 30,
   "id": "9323c4bb-389c-44cf-9069-afba56681a89",
   "metadata": {},
   "outputs": [
    {
     "name": "stdout",
     "output_type": "stream",
     "text": [
      "*****\n",
      "****\n",
      "***\n",
      "**\n",
      "*\n"
     ]
    }
   ],
   "source": [
    "rows = 5\n",
    "i = 1\n",
    "while i <= rows:\n",
    "    j = 1\n",
    "    while j <= (rows - i + 1):\n",
    "        print(\"*\", end=\"\")\n",
    "        j = j + 1\n",
    "    print()\n",
    "    i = i + 1"
   ]
  },
  {
   "cell_type": "code",
   "execution_count": null,
   "id": "a366a95b-54a2-41c3-9229-e5635acdb38e",
   "metadata": {},
   "outputs": [],
   "source": [
    "3. This is number pattern"
   ]
  },
  {
   "cell_type": "code",
   "execution_count": 31,
   "id": "fb2b2c67-2c19-4eca-8865-008c3ee2aceb",
   "metadata": {},
   "outputs": [
    {
     "name": "stdout",
     "output_type": "stream",
     "text": [
      "1 \n",
      "1 2 \n",
      "1 2 3 \n",
      "1 2 3 4 \n",
      "1 2 3 4 5 \n"
     ]
    }
   ],
   "source": [
    "row = 5\n",
    "for i in range(1, row + 1, 1):\n",
    "   \n",
    "    for j in range(1, i + 1):\n",
    "        print(j, end=' ')\n",
    "\n",
    "    print(\"\")"
   ]
  },
  {
   "cell_type": "code",
   "execution_count": null,
   "id": "c9dc0078-2b1b-47e6-8fe4-900e4dfb2910",
   "metadata": {},
   "outputs": [],
   "source": []
  },
  {
   "cell_type": "code",
   "execution_count": null,
   "id": "5e27bd47-3e23-4e57-bb84-ba26ffb76e38",
   "metadata": {},
   "outputs": [],
   "source": [
    "QUE. 7"
   ]
  },
  {
   "cell_type": "code",
   "execution_count": null,
   "id": "b1b2c1e7-4708-410f-a300-23bdc141eaab",
   "metadata": {},
   "outputs": [],
   "source": [
    "reverse a while loop to display numbers from 10 to 1"
   ]
  },
  {
   "cell_type": "code",
   "execution_count": 32,
   "id": "fa4285d9-79b2-4375-9d2e-ce2a30a8559a",
   "metadata": {},
   "outputs": [
    {
     "name": "stdout",
     "output_type": "stream",
     "text": [
      "10\n",
      "9\n",
      "8\n",
      "7\n",
      "6\n",
      "5\n",
      "4\n",
      "3\n",
      "2\n",
      "1\n"
     ]
    }
   ],
   "source": [
    "num = 10\n",
    "while num >= 1:\n",
    "    print(num)\n",
    "    num -= 1"
   ]
  },
  {
   "cell_type": "code",
   "execution_count": null,
   "id": "81ba98ba-b69c-47c2-84fd-5c664ab71414",
   "metadata": {},
   "outputs": [],
   "source": []
  }
 ],
 "metadata": {
  "kernelspec": {
   "display_name": "Python 3 (ipykernel)",
   "language": "python",
   "name": "python3"
  },
  "language_info": {
   "codemirror_mode": {
    "name": "ipython",
    "version": 3
   },
   "file_extension": ".py",
   "mimetype": "text/x-python",
   "name": "python",
   "nbconvert_exporter": "python",
   "pygments_lexer": "ipython3",
   "version": "3.10.8"
  }
 },
 "nbformat": 4,
 "nbformat_minor": 5
}
