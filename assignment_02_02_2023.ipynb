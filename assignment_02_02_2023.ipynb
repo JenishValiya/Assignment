{
 "cells": [
  {
   "cell_type": "code",
   "execution_count": null,
   "id": "61f05407-2b32-42dc-9cd2-a223616713ff",
   "metadata": {},
   "outputs": [],
   "source": [
    "QUE. 1"
   ]
  },
  {
   "cell_type": "code",
   "execution_count": null,
   "id": "854d16ce-bd61-4cce-b212-52dfde787d48",
   "metadata": {},
   "outputs": [],
   "source": [
    "Explain with an example each when to use a for and while loop."
   ]
  },
  {
   "cell_type": "code",
   "execution_count": null,
   "id": "2ca63eee-22f2-40b5-95fd-46b8e5117446",
   "metadata": {},
   "outputs": [],
   "source": [
    "For loops are used when you know the number of iterations in advance. For example, if you want to loop through an array of items and perform an operation on each item, a for loop would be appropriate:"
   ]
  },
  {
   "cell_type": "code",
   "execution_count": 11,
   "id": "cb205ca8-901b-45e6-8f88-ad0a9d091b1c",
   "metadata": {},
   "outputs": [
    {
     "name": "stdout",
     "output_type": "stream",
     "text": [
      "apple\n",
      "banana\n",
      "cherry\n"
     ]
    }
   ],
   "source": [
    "fruits = ['apple', 'banana', 'cherry']\n",
    "for fruit in fruits:\n",
    "    print(fruit)"
   ]
  },
  {
   "cell_type": "code",
   "execution_count": null,
   "id": "10b2ff3a-bf8c-46e1-bec5-8cb2372f139a",
   "metadata": {},
   "outputs": [],
   "source": [
    "While loops are used when you don't know the number of iterations in advance and want to repeat an operation until a certain condition is met. For example, if you want to keep prompting a user for input until they provide a valid answer, a while loop would be appropriate:"
   ]
  },
  {
   "cell_type": "code",
   "execution_count": 12,
   "id": "0252ac6c-396c-4c97-be7f-0819fd028b32",
   "metadata": {},
   "outputs": [
    {
     "name": "stdin",
     "output_type": "stream",
     "text": [
      "Enter 'yes' or 'no':  yes\n"
     ]
    },
    {
     "name": "stdout",
     "output_type": "stream",
     "text": [
      "Invalid response, please try again.\n"
     ]
    }
   ],
   "source": [
    "while True:\n",
    "    response = input(\"Enter 'yes' or 'no': \")\n",
    "    if response in ['yes', 'no']:\n",
    "        break\n",
    "print(\"Invalid response, please try again.\")"
   ]
  },
  {
   "cell_type": "code",
   "execution_count": null,
   "id": "c4ddf091-9e2d-44d1-b4d1-3bc3bd249611",
   "metadata": {},
   "outputs": [],
   "source": []
  },
  {
   "cell_type": "code",
   "execution_count": null,
   "id": "1084251d-2e50-47aa-9d20-36f624df31c1",
   "metadata": {},
   "outputs": [],
   "source": [
    "QUE. 2"
   ]
  },
  {
   "cell_type": "code",
   "execution_count": null,
   "id": "21ab6a1a-3eff-4a0b-8839-2f735616892b",
   "metadata": {},
   "outputs": [],
   "source": [
    "Write a python program to print the sum and product of the first 10 natural number using for and while loop."
   ]
  },
  {
   "cell_type": "code",
   "execution_count": 17,
   "id": "af70b172-df53-4887-8e67-b1cdc1858c04",
   "metadata": {},
   "outputs": [
    {
     "name": "stdout",
     "output_type": "stream",
     "text": [
      "Sum of first 10 natural numbers: 55\n",
      "Product of first 10 natural numbers: 3628800\n"
     ]
    }
   ],
   "source": [
    "##n using for loop\n",
    "sum = 0\n",
    "a = 1\n",
    "for i in range(1, 11):\n",
    "    sum += i\n",
    "    a *= i\n",
    "print(\"Sum of first 10 natural numbers:\", sum)\n",
    "print(\"Product of first 10 natural numbers:\",a)"
   ]
  },
  {
   "cell_type": "code",
   "execution_count": 18,
   "id": "5395f0ac-3aba-40ec-9632-ae7785089567",
   "metadata": {},
   "outputs": [
    {
     "name": "stdout",
     "output_type": "stream",
     "text": [
      "Sum of first 10 natural numbers: 55\n",
      "Product of first 10 natural numbers: 3628800\n"
     ]
    }
   ],
   "source": [
    "## using while loop\n",
    "sum = 0\n",
    "a = 1\n",
    "i = 1\n",
    "while i <= 10:\n",
    "    sum += i\n",
    "    a *= i\n",
    "    i += 1\n",
    "print(\"Sum of first 10 natural numbers:\", sum)\n",
    "print(\"Product of first 10 natural numbers:\",a)"
   ]
  },
  {
   "cell_type": "code",
   "execution_count": null,
   "id": "54f79ad2-941c-4fa5-aa08-6b18b6166e2a",
   "metadata": {},
   "outputs": [],
   "source": []
  },
  {
   "cell_type": "code",
   "execution_count": null,
   "id": "533a3dfb-ca82-4e56-bec6-d6d89cbfbe57",
   "metadata": {},
   "outputs": [],
   "source": [
    "QUE. 3"
   ]
  },
  {
   "cell_type": "code",
   "execution_count": null,
   "id": "44e7bca4-0ed7-4fa7-b753-4b5e6435667e",
   "metadata": {},
   "outputs": [],
   "source": [
    "Create a python program to compute the electricity bill for a household. given condition\n",
    "        The per-unit charges in rupees are as follows: For the first 100 units, the user will be charged Rs. 4.5 per\n",
    "    unit, for the next 100 units, the user will be charged Rs. 6 per unit, and for the next 100 units, the user will\n",
    "    be charged Rs. 10 per unit, After 300 units and above the user will be charged Rs. 20 per unit.\n"
   ]
  },
  {
   "cell_type": "code",
   "execution_count": 59,
   "id": "16c789c7-6b54-4f6a-a093-fae2144d2253",
   "metadata": {},
   "outputs": [
    {
     "name": "stdin",
     "output_type": "stream",
     "text": [
      "Enter the number of units consumed:  310\n"
     ]
    },
    {
     "name": "stdout",
     "output_type": "stream",
     "text": [
      "Total electricity bill: 2250.0\n"
     ]
    }
   ],
   "source": [
    "units = int(input(\"Enter the number of units consumed: \"))\n",
    "\n",
    "if units <= 100:\n",
    "    bill = units * 4.5\n",
    "elif units <= 200:\n",
    "    bill = 100 * 4.5 + (units - 100) * 6\n",
    "elif units <= 300:\n",
    "    bill = 100 * 4.5 + 100 * 6 + (units - 200) * 10\n",
    "else:\n",
    "    bill = 100 * 4.5 + 100 * 6 + 100 * 10 + (units - 300) * 20\n",
    "\n",
    "print(\"Total electricity bill:\",bill)"
   ]
  },
  {
   "cell_type": "code",
   "execution_count": null,
   "id": "92b05bf5-e7cf-4b1b-bf20-6ad0bbd1a100",
   "metadata": {},
   "outputs": [],
   "source": []
  },
  {
   "cell_type": "code",
   "execution_count": null,
   "id": "a4b49487-ac20-43da-97b8-a39263dc8fdd",
   "metadata": {},
   "outputs": [],
   "source": [
    "QUE. 4"
   ]
  },
  {
   "cell_type": "code",
   "execution_count": null,
   "id": "1a8f95eb-961f-477f-a5d6-fd6685e58c9e",
   "metadata": {},
   "outputs": [],
   "source": [
    "Create a list of numbers from 1 to 100. Use for loop and while loop to calculate the cube of each\n",
    "number and if the cube of that number is divisible by 4 or 5 then append that number in a list and print\n",
    "that list."
   ]
  },
  {
   "cell_type": "code",
   "execution_count": 31,
   "id": "25fcc601-a468-4b80-9b28-1a73bdb596c8",
   "metadata": {},
   "outputs": [
    {
     "name": "stdout",
     "output_type": "stream",
     "text": [
      "Numbers whose cube is divisible by 4 or 5: [2, 4, 5, 6, 8, 10, 12, 14, 15, 16, 18, 20, 22, 24, 25, 26, 28, 30, 32, 34, 35, 36, 38, 40, 42, 44, 45, 46, 48, 50, 52, 54, 55, 56, 58, 60, 62, 64, 65, 66, 68, 70, 72, 74, 75, 76, 78, 80, 82, 84, 85, 86, 88, 90, 92, 94, 95, 96, 98, 100]\n"
     ]
    }
   ],
   "source": [
    "a = []\n",
    "for i in range(1, 101):\n",
    "    cube = i ** 3\n",
    "    if cube % 4 == 0 or cube % 5 == 0:\n",
    "        a.append(i)\n",
    "\n",
    "print(\"Numbers whose cube is divisible by 4 or 5:\", a)"
   ]
  },
  {
   "cell_type": "code",
   "execution_count": 36,
   "id": "73cf76e8-6d49-4d9f-b457-85c8509abade",
   "metadata": {},
   "outputs": [
    {
     "name": "stdout",
     "output_type": "stream",
     "text": [
      "Numbers whose cube is divisible by 4 or 5: [2, 4, 5, 6, 8, 10, 12, 14, 15, 16, 18, 20, 22, 24, 25, 26, 28, 30, 32, 34, 35, 36, 38, 40, 42, 44, 45, 46, 48, 50, 52, 54, 55, 56, 58, 60, 62, 64, 65, 66, 68, 70, 72, 74, 75, 76, 78, 80, 82, 84, 85, 86, 88, 90, 92, 94, 95, 96, 98, 100]\n"
     ]
    }
   ],
   "source": [
    "a = []\n",
    "i = 1\n",
    "while i <= 100:\n",
    "    cube = i ** 3\n",
    "    if cube % 4 == 0 or cube % 5 == 0:\n",
    "        a.append(i)\n",
    "    i += 1\n",
    "\n",
    "print(\"Numbers whose cube is divisible by 4 or 5:\",a)"
   ]
  },
  {
   "cell_type": "code",
   "execution_count": null,
   "id": "1c623042-f994-4d4d-9819-c9cdabff30f4",
   "metadata": {},
   "outputs": [],
   "source": []
  },
  {
   "cell_type": "code",
   "execution_count": null,
   "id": "93ea7aea-38fa-430b-86c9-52cdc3d233aa",
   "metadata": {},
   "outputs": [],
   "source": [
    "QUE. 5"
   ]
  },
  {
   "cell_type": "code",
   "execution_count": null,
   "id": "02d88a2e-cfc6-49c2-bcf0-23835ced10b4",
   "metadata": {},
   "outputs": [],
   "source": [
    "Write a program to filter count vowels in the below-given string.\n",
    "\n",
    "string = \"I want to become a data scientist\""
   ]
  },
  {
   "cell_type": "code",
   "execution_count": 62,
   "id": "3cc48228-6e31-47f0-b0ac-b662c65cedc0",
   "metadata": {},
   "outputs": [
    {
     "name": "stdout",
     "output_type": "stream",
     "text": [
      "Number of vowels in the string: 12\n"
     ]
    }
   ],
   "source": [
    "s = \"I want to become a data scientist\"\n",
    "\n",
    "vowels = \"AEIOUaeiou\"\n",
    "count = 0\n",
    "\n",
    "for char in s:\n",
    "    if char in vowels:\n",
    "        count += 1\n",
    "\n",
    "print(\"Number of vowels in the string:\",count)"
   ]
  },
  {
   "cell_type": "code",
   "execution_count": null,
   "id": "77babf17-6b5e-4b6f-bd42-92c39ee824b7",
   "metadata": {},
   "outputs": [],
   "source": []
  }
 ],
 "metadata": {
  "kernelspec": {
   "display_name": "Python 3 (ipykernel)",
   "language": "python",
   "name": "python3"
  },
  "language_info": {
   "codemirror_mode": {
    "name": "ipython",
    "version": 3
   },
   "file_extension": ".py",
   "mimetype": "text/x-python",
   "name": "python",
   "nbconvert_exporter": "python",
   "pygments_lexer": "ipython3",
   "version": "3.10.8"
  }
 },
 "nbformat": 4,
 "nbformat_minor": 5
}
